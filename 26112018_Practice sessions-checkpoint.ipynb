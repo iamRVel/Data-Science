{
 "cells": [
  {
   "cell_type": "code",
   "execution_count": 7,
   "metadata": {},
   "outputs": [
    {
     "name": "stdout",
     "output_type": "stream",
     "text": [
      "['R', 'A', 'T', 'H', 'I', 'N', 'A', 'V', 'E', 'L']\n"
     ]
    }
   ],
   "source": [
    "#comprehensions ** (letter) is a key function here\n",
    "\n",
    "a_letters = []\n",
    "for letter in 'RATHINAVEL':\n",
    "    a_letters.append(letter)\n",
    "print(a_letters)"
   ]
  },
  {
   "cell_type": "code",
   "execution_count": 9,
   "metadata": {},
   "outputs": [
    {
     "name": "stdout",
     "output_type": "stream",
     "text": [
      "['R', 'A', 'T', 'H', 'I', 'N', 'A', 'V', 'E', 'L']\n"
     ]
    }
   ],
   "source": [
    "# List Comprehension (** Another way)\n",
    "\n",
    "b_letters = [letter for letter in 'RATHINAVEL']\n",
    "print (b_letters)"
   ]
  },
  {
   "cell_type": "code",
   "execution_count": 14,
   "metadata": {},
   "outputs": [
    {
     "name": "stdout",
     "output_type": "stream",
     "text": [
      "['R', 'A', 'T', 'H', 'I', 'N', 'A', 'V', 'E', 'L']\n"
     ]
    }
   ],
   "source": [
    "# Lambda comprehension\n",
    "\n",
    "c_letters = list(map(lambda x: x, 'RATHINAVEL'))\n",
    "print(c_letters)"
   ]
  },
  {
   "cell_type": "code",
   "execution_count": 20,
   "metadata": {},
   "outputs": [],
   "source": [
    "#conditional list comprehension\n",
    "\n",
    "number_list = [x for x in range (25) if x % 2 == 0]"
   ]
  },
  {
   "cell_type": "code",
   "execution_count": 21,
   "metadata": {},
   "outputs": [
    {
     "data": {
      "text/plain": [
       "[0, 2, 4, 6, 8, 10, 12, 14, 16, 18, 20, 22, 24]"
      ]
     },
     "execution_count": 21,
     "metadata": {},
     "output_type": "execute_result"
    }
   ],
   "source": [
    "number_list"
   ]
  },
  {
   "cell_type": "code",
   "execution_count": 26,
   "metadata": {},
   "outputs": [],
   "source": [
    "#Nested If list comprehension\n",
    "\n",
    "num = [z for z in range (101) if z % 2 ==0 if z % 3 == 0]"
   ]
  },
  {
   "cell_type": "code",
   "execution_count": 27,
   "metadata": {},
   "outputs": [
    {
     "data": {
      "text/plain": [
       "[0, 6, 12, 18, 24, 30, 36, 42, 48, 54, 60, 66, 72, 78, 84, 90, 96]"
      ]
     },
     "execution_count": 27,
     "metadata": {},
     "output_type": "execute_result"
    }
   ],
   "source": [
    "num"
   ]
  },
  {
   "cell_type": "code",
   "execution_count": 34,
   "metadata": {},
   "outputs": [],
   "source": [
    "#If else || list comprehension\n",
    "\n",
    "obj_if = ['EVEN' if i % 2 == 0 else 'ODD' for i in range (15)]"
   ]
  },
  {
   "cell_type": "code",
   "execution_count": 35,
   "metadata": {},
   "outputs": [
    {
     "data": {
      "text/plain": [
       "['EVEN',\n",
       " 'ODD',\n",
       " 'EVEN',\n",
       " 'ODD',\n",
       " 'EVEN',\n",
       " 'ODD',\n",
       " 'EVEN',\n",
       " 'ODD',\n",
       " 'EVEN',\n",
       " 'ODD',\n",
       " 'EVEN',\n",
       " 'ODD',\n",
       " 'EVEN',\n",
       " 'ODD',\n",
       " 'EVEN']"
      ]
     },
     "execution_count": 35,
     "metadata": {},
     "output_type": "execute_result"
    }
   ],
   "source": [
    "obj_if"
   ]
  },
  {
   "cell_type": "code",
   "execution_count": 39,
   "metadata": {},
   "outputs": [
    {
     "name": "stdout",
     "output_type": "stream",
     "text": [
      "[[1, 5], [2, 6], [3, 7], [4, 8]]\n"
     ]
    }
   ],
   "source": [
    "#Nested Loop  || list comprehension\n",
    "\n",
    "transpose = []\n",
    "matrix = [[1,2,3,4],[5,6,7,8]]\n",
    "for i in range (len(matrix[0])):\n",
    "    transpose_row = []\n",
    "    for row in matrix:\n",
    "        transpose_row.append(row[i])\n",
    "    transpose.append(transpose_row)\n",
    "print(transpose)"
   ]
  },
  {
   "cell_type": "code",
   "execution_count": 41,
   "metadata": {},
   "outputs": [],
   "source": [
    "matrix = [[1, 5],[2, 6],[3, 7],[4, 8]]\n",
    "transpose = [[row[i] for row in matrix] for i in range(2)]"
   ]
  },
  {
   "cell_type": "code",
   "execution_count": 42,
   "metadata": {},
   "outputs": [
    {
     "data": {
      "text/plain": [
       "[[1, 2, 3, 4], [5, 6, 7, 8]]"
      ]
     },
     "execution_count": 42,
     "metadata": {},
     "output_type": "execute_result"
    }
   ],
   "source": [
    "transpose"
   ]
  },
  {
   "cell_type": "code",
   "execution_count": null,
   "metadata": {},
   "outputs": [],
   "source": []
  }
 ],
 "metadata": {
  "kernelspec": {
   "display_name": "Python 3",
   "language": "python",
   "name": "python3"
  },
  "language_info": {
   "codemirror_mode": {
    "name": "ipython",
    "version": 3
   },
   "file_extension": ".py",
   "mimetype": "text/x-python",
   "name": "python",
   "nbconvert_exporter": "python",
   "pygments_lexer": "ipython3",
   "version": "3.7.0"
  }
 },
 "nbformat": 4,
 "nbformat_minor": 2
}
